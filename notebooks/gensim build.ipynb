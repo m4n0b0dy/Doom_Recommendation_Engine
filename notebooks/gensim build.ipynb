{
 "cells": [
  {
   "cell_type": "raw",
   "metadata": {},
   "source": [
    "from transformers import BertTokenizer, BertModel\n",
    "import torch\n",
    "#untrained embedding model\n",
    "tokenizer = BertTokenizer.from_pretrained('../models/embedding_models/tokenizer/')\n",
    "model = BertModel.from_pretrained('../models/embedding_models/model/').to('cuda')\n",
    "#tokenizer.save_pretrained('../models/embedding_models/tokenizer/')\n",
    "#@model.save_pretrained('../models/embedding_models/model/')\n",
    "#how to use\n",
    "input_ids = torch.tensor(tokenizer.encode(\"Hello, my dog is cute\")).unsqueeze(0).to('cuda')\n",
    "outputs = model(input_ids)\n",
    "last_hidden_states = outputs[0][0].mean(axis=0)\n",
    "#last_hidden_states"
   ]
  },
  {
   "cell_type": "code",
   "execution_count": 1,
   "metadata": {},
   "outputs": [],
   "source": [
    "import os\n",
    "import gensim\n",
    "from gensim.parsing.porter import PorterStemmer\n",
    "from gensim.parsing.preprocessing import remove_stopwords\n",
    "from gensim.models.doc2vec import Doc2Vec, TaggedDocument\n",
    "from gensim.utils import simple_preprocess\n",
    "import time\n"
   ]
  },
  {
   "cell_type": "code",
   "execution_count": 17,
   "metadata": {},
   "outputs": [],
   "source": [
    "def read_corpus(docs, tokens_only=False):\n",
    "    p = PorterStemmer()\n",
    "    t = time.time()\n",
    "    for i, line in enumerate(docs):\n",
    "        line = remove_stopwords(line)\n",
    "        line = p.stem_sentence(line)\n",
    "        tokens = gensim.utils.simple_preprocess(line)\n",
    "        if i %10000==0:\n",
    "            print(i, time.time()-t)\n",
    "        if tokens_only:\n",
    "            yield ' '.join(tokens)\n",
    "        else:\n",
    "            yield gensim.models.doc2vec.TaggedDocument(tokens, [i])\n",
    "        "
   ]
  },
  {
   "cell_type": "code",
   "execution_count": 8,
   "metadata": {},
   "outputs": [],
   "source": [
    "with open('../data/all_text.txt','r', encoding=\"utf8\") as f:\n",
    "    data = f.read().split(' ---------- ')"
   ]
  },
  {
   "cell_type": "code",
   "execution_count": 19,
   "metadata": {},
   "outputs": [
    {
     "name": "stdout",
     "output_type": "stream",
     "text": [
      "0 0.0020020008087158203\n",
      "10000 19.860074758529663\n",
      "20000 40.06347036361694\n",
      "30000 59.58175325393677\n",
      "40000 79.59349918365479\n",
      "50000 98.53574657440186\n",
      "60000 118.30273652076721\n",
      "70000 138.0171136856079\n",
      "80000 157.83890867233276\n",
      "90000 177.08442401885986\n",
      "100000 197.218670129776\n",
      "110000 216.9371201992035\n"
     ]
    }
   ],
   "source": [
    "#stem/stop word cleaning/tokenizing before saving\n",
    "tokenized_corpus = list(read_corpus(data,tokens_only=True))\n",
    "lined_data = '\\n'.join(tokenized_corpus)\n",
    "with open('../data/lined_all_text.txt','w', encoding=\"utf8\") as f:\n",
    "    f.write(lined_data)"
   ]
  },
  {
   "cell_type": "code",
   "execution_count": 2,
   "metadata": {},
   "outputs": [],
   "source": [
    "model = Doc2Vec(vector_size=1024,\n",
    "                epochs=20,\n",
    "                workers=12,#8\n",
    "                window=5,\n",
    "                min_count=5,\n",
    "                sample=1e-5,\n",
    "                negative=5,\n",
    "                dm=1)"
   ]
  },
  {
   "cell_type": "code",
   "execution_count": 3,
   "metadata": {},
   "outputs": [],
   "source": [
    "model.build_vocab(corpus_file='../data/lined_all_text.txt')"
   ]
  },
  {
   "cell_type": "code",
   "execution_count": 4,
   "metadata": {},
   "outputs": [
    {
     "name": "stdout",
     "output_type": "stream",
     "text": [
      "382.78553795814514\n"
     ]
    }
   ],
   "source": [
    "t = time.time()\n",
    "model.train(corpus_file='../data/lined_all_text.txt',\n",
    "            #train_corpus,\n",
    "            total_words=model.corpus_total_words,\n",
    "            #total_examples=model.corpus_count,\n",
    "           epochs=model.epochs)\n",
    "print(time.time()-t)"
   ]
  },
  {
   "cell_type": "code",
   "execution_count": 10,
   "metadata": {},
   "outputs": [],
   "source": [
    "vector = model.infer_vector(data[5454].split(' '))"
   ]
  },
  {
   "cell_type": "code",
   "execution_count": 11,
   "metadata": {},
   "outputs": [
    {
     "data": {
      "text/plain": [
       "array([ 0.02453034,  0.12518424,  0.5898173 , ..., -0.20886329,\n",
       "        0.23093084,  0.29921034], dtype=float32)"
      ]
     },
     "execution_count": 11,
     "metadata": {},
     "output_type": "execute_result"
    }
   ],
   "source": [
    "vector"
   ]
  },
  {
   "cell_type": "code",
   "execution_count": 12,
   "metadata": {},
   "outputs": [],
   "source": [
    "model.save(\"../models/doc2vec.model\")"
   ]
  },
  {
   "cell_type": "code",
   "execution_count": null,
   "metadata": {},
   "outputs": [],
   "source": []
  }
 ],
 "metadata": {
  "kernelspec": {
   "display_name": "Python 3",
   "language": "python",
   "name": "python3"
  },
  "language_info": {
   "codemirror_mode": {
    "name": "ipython",
    "version": 3
   },
   "file_extension": ".py",
   "mimetype": "text/x-python",
   "name": "python",
   "nbconvert_exporter": "python",
   "pygments_lexer": "ipython3",
   "version": "3.7.9"
  }
 },
 "nbformat": 4,
 "nbformat_minor": 4
}
