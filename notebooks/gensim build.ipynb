{
 "cells": [
  {
   "cell_type": "raw",
   "metadata": {},
   "source": [
    "from transformers import BertTokenizer, BertModel\n",
    "import torch\n",
    "#untrained embedding model\n",
    "tokenizer = BertTokenizer.from_pretrained('../models/embedding_models/tokenizer/')\n",
    "model = BertModel.from_pretrained('../models/embedding_models/model/').to('cuda')\n",
    "#tokenizer.save_pretrained('../models/embedding_models/tokenizer/')\n",
    "#@model.save_pretrained('../models/embedding_models/model/')\n",
    "#how to use\n",
    "input_ids = torch.tensor(tokenizer.encode(\"Hello, my dog is cute\")).unsqueeze(0).to('cuda')\n",
    "outputs = model(input_ids)\n",
    "last_hidden_states = outputs[0][0].mean(axis=0)\n",
    "#last_hidden_states"
   ]
  },
  {
   "cell_type": "raw",
   "metadata": {},
   "source": [
    "#trained gensim doc2vec\n",
    "from gensim.parsing.porter import PorterStemmer\n",
    "from gensim.parsing.preprocessing import remove_stopwords\n",
    "from gensim.models.doc2vec import Doc2Vec, TaggedDocument\n",
    "from gensim.utils import simple_preprocess\n",
    "\n",
    "class MyCorpus:\n",
    "    def __init__(self, train_data):\n",
    "        assert type(train_data) == list\n",
    "        self.train_data = train_data\n",
    "        \n",
    "    def __iter__(self):\n",
    "        p = PorterStemmer()\n",
    "        #for i in range(len(self.train_data)):\n",
    "            #doc = self.train_data[i]\n",
    "        for i, doc in enumerate(self.train_data):\n",
    "            doc = remove_stopwords(doc)\n",
    "            doc = p.stem_sentence(doc)\n",
    "            words = simple_preprocess(doc, deacc=True)\n",
    "            yield TaggedDocument(words=words, tags=[i])\n"
   ]
  },
  {
   "cell_type": "raw",
   "metadata": {},
   "source": [
    "class Doc2VecModel:\n",
    "    def __init__(self, train_corpus):\n",
    "        self.train_corpus = train_corpus\n",
    "        self.model = None\n",
    "    def run(self,vec_size=100,model_path='',overwrite=False):\n",
    "        print('app started')\n",
    "        #change me to gpu, clean prints\n",
    "        # gc.collect()\n",
    "        if model_path:\n",
    "            print('loading an exiting model')\n",
    "            self.model = Doc2Vec.load(model_path)\n",
    "        else:\n",
    "            print('reading training corpus from %s' % self.train_corpus)\n",
    "            corpus_data = MyCorpus(self.train_corpus)\n",
    "            \n",
    "            self.model = Doc2Vec(vector_size=vec_size, window=3, min_count=3, sample=1e-4, negative=5, dm=1)\n",
    "            print('building vocabulary...')\n",
    "            self.model.build_vocab(corpus_data)\n",
    "\n",
    "            self.model.train(corpus_data, total_examples=model.corpus_count, epochs=1)\n",
    "            if model_path and overwrite:\n",
    "                self.model.save(doc2vec_model)\n",
    "            #self.model.save_word2vec_format(word2vec_model)\n",
    "\n",
    "        print('total docs learned %s' % (len(model.docvecs)))"
   ]
  },
  {
   "cell_type": "raw",
   "metadata": {},
   "source": [
    "with open('../data/all_text.txt','r') as f:\n",
    "    data = f.read().split(' ---------- ')"
   ]
  },
  {
   "cell_type": "raw",
   "metadata": {},
   "source": [
    "#corpus = MyCorpus(data)\n",
    "model = Doc2VecModel(data)"
   ]
  },
  {
   "cell_type": "raw",
   "metadata": {},
   "source": [
    "model.run()"
   ]
  },
  {
   "cell_type": "code",
   "execution_count": null,
   "metadata": {},
   "outputs": [],
   "source": []
  },
  {
   "cell_type": "code",
   "execution_count": 1,
   "metadata": {},
   "outputs": [],
   "source": [
    "import os\n",
    "import gensim\n",
    "from gensim.parsing.porter import PorterStemmer\n",
    "from gensim.parsing.preprocessing import remove_stopwords\n",
    "from gensim.models.doc2vec import Doc2Vec, TaggedDocument\n",
    "from gensim.utils import simple_preprocess\n",
    "import time\n",
    "with open('../data/all_text.txt','r') as f:\n",
    "    data = f.read().split(' ---------- ')"
   ]
  },
  {
   "cell_type": "code",
   "execution_count": 2,
   "metadata": {},
   "outputs": [],
   "source": [
    "def read_corpus(docs, tokens_only=False):\n",
    "    p = PorterStemmer()\n",
    "    for i, line in enumerate(docs):\n",
    "        line = remove_stopwords(line)\n",
    "        line = p.stem_sentence(line)\n",
    "        tokens = gensim.utils.simple_preprocess(line)\n",
    "        if tokens_only:\n",
    "            yield tokens\n",
    "        else:\n",
    "            # For training data, add tags\n",
    "            yield gensim.models.doc2vec.TaggedDocument(tokens, [i])"
   ]
  },
  {
   "cell_type": "code",
   "execution_count": 3,
   "metadata": {},
   "outputs": [],
   "source": [
    "t = time.time()\n",
    "train_corpus = list(read_corpus(data))"
   ]
  },
  {
   "cell_type": "code",
   "execution_count": 4,
   "metadata": {},
   "outputs": [],
   "source": [
    "model = Doc2Vec(vector_size=1024,\n",
    "                epochs=50,\n",
    "                workers=8,\n",
    "                window=5,\n",
    "                min_count=5,\n",
    "                sample=1e-5,\n",
    "                negative=5,\n",
    "                dm=1)"
   ]
  },
  {
   "cell_type": "code",
   "execution_count": null,
   "metadata": {},
   "outputs": [],
   "source": [
    "model.build_vocab(train_corpus)"
   ]
  },
  {
   "cell_type": "code",
   "execution_count": null,
   "metadata": {},
   "outputs": [],
   "source": [
    "model.train(train_corpus,\n",
    "            total_examples=model.corpus_count)"
   ]
  },
  {
   "cell_type": "code",
   "execution_count": null,
   "metadata": {},
   "outputs": [],
   "source": [
    "print(time.time()-t)"
   ]
  },
  {
   "cell_type": "code",
   "execution_count": null,
   "metadata": {},
   "outputs": [],
   "source": [
    "vector = model.infer_vector(data[5454].split(' '))"
   ]
  },
  {
   "cell_type": "code",
   "execution_count": null,
   "metadata": {},
   "outputs": [],
   "source": [
    "vector"
   ]
  },
  {
   "cell_type": "code",
   "execution_count": null,
   "metadata": {},
   "outputs": [],
   "source": []
  }
 ],
 "metadata": {
  "kernelspec": {
   "display_name": "Python 3",
   "language": "python",
   "name": "python3"
  },
  "language_info": {
   "codemirror_mode": {
    "name": "ipython",
    "version": 3
   },
   "file_extension": ".py",
   "mimetype": "text/x-python",
   "name": "python",
   "nbconvert_exporter": "python",
   "pygments_lexer": "ipython3",
   "version": "3.7.9"
  }
 },
 "nbformat": 4,
 "nbformat_minor": 4
}
