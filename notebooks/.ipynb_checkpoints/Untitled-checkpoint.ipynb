{
 "cells": [
  {
   "cell_type": "code",
   "execution_count": 8,
   "metadata": {},
   "outputs": [],
   "source": [
    "from transformers import AutoTokenizer, AutoModelForTokenClassification\n",
    "from transformers import pipeline\n",
    "tokenizer = AutoTokenizer.from_pretrained(\"../models/bert_ner/tokenizer/\")\n",
    "model = AutoModelForTokenClassification.from_pretrained(\"../models/bert_ner/model/\")"
   ]
  },
  {
   "cell_type": "code",
   "execution_count": 16,
   "metadata": {},
   "outputs": [
    {
     "data": {
      "text/plain": [
       "[]"
      ]
     },
     "execution_count": 16,
     "metadata": {},
     "output_type": "execute_result"
    }
   ],
   "source": [
    "nlp = pipeline(\"ner\", model=model, tokenizer=tokenizer)\n",
    "example = \"2pac chilling for real my dude\"\n",
    "\n",
    "ner_results = nlp(example)\n",
    "[_['word'] for _ in ner_results]"
   ]
  },
  {
   "cell_type": "code",
   "execution_count": 6,
   "metadata": {},
   "outputs": [],
   "source": [
    "import sys\n",
    "sys.path.insert(0, '../tools/')\n",
    "from live_models import *"
   ]
  },
  {
   "cell_type": "code",
   "execution_count": 7,
   "metadata": {},
   "outputs": [],
   "source": [
    "test = 'Yo, microphone check one two what is this/The five foot assassin with the roughneck business/I float like gravity, never had a cavity/Got more rhymes than the Winans got family..'"
   ]
  },
  {
   "cell_type": "code",
   "execution_count": 8,
   "metadata": {},
   "outputs": [
    {
     "data": {
      "text/plain": [
       "array([-0.07179727,  0.03461074,  0.14016701, ...,  0.02778693,\n",
       "        0.07398701,  0.00487523], dtype=float32)"
      ]
     },
     "execution_count": 8,
     "metadata": {},
     "output_type": "execute_result"
    }
   ],
   "source": [
    "run_embedding(test)"
   ]
  },
  {
   "cell_type": "code",
   "execution_count": 9,
   "metadata": {
    "scrolled": true
   },
   "outputs": [
    {
     "data": {
      "text/plain": [
       "[]"
      ]
     },
     "execution_count": 9,
     "metadata": {},
     "output_type": "execute_result"
    }
   ],
   "source": [
    "run_lda(test)"
   ]
  },
  {
   "cell_type": "code",
   "execution_count": 10,
   "metadata": {},
   "outputs": [
    {
     "data": {
      "text/plain": [
       "['Win']"
      ]
     },
     "execution_count": 10,
     "metadata": {},
     "output_type": "execute_result"
    }
   ],
   "source": [
    "run_ner(test)"
   ]
  },
  {
   "cell_type": "code",
   "execution_count": 11,
   "metadata": {},
   "outputs": [],
   "source": [
    "test = '''They say pussy and paper is poetry power and pistols\n",
    "Plottin on murderin motherfuckers 'fore they get you\n",
    "Picturin pitiful punk niggaz coppin pleas\n",
    "Puffin weed as I position myself to clock G's\n",
    "My enemies scatter in suicidal situations\n",
    "Never to witness the wicked shit that they was facin\n",
    "Pockets is packed with presidents, pursue your riches\n",
    "Evadin the playa hatin tricks, while hittin switches\n",
    "Bitches is bad-mouth, cause brawlin motherfuckers is bold\n",
    "But y'all some hoes, the game should be sewed\n",
    "I'm sick of psychotic society somebody save me\n",
    "Addicted to drama so even mama couldn't raise me\n",
    "Even the preacher and all my teachers couldn't reach me\n",
    "I run in the streets and puffin weed wit my peeps\n",
    "I'm duckin the cop, I hit the weed as I'm clutchin my glock\n",
    "Niggaz is hot when I hit the block, what if I die tonight'''"
   ]
  },
  {
   "cell_type": "code",
   "execution_count": 12,
   "metadata": {},
   "outputs": [
    {
     "data": {
      "text/plain": [
       "array([-0.05032293, -0.11999466, -0.07917459, ..., -0.198951  ,\n",
       "        0.1351493 ,  0.07185087], dtype=float32)"
      ]
     },
     "execution_count": 12,
     "metadata": {},
     "output_type": "execute_result"
    }
   ],
   "source": [
    "run_embedding(test)"
   ]
  },
  {
   "cell_type": "code",
   "execution_count": 13,
   "metadata": {
    "scrolled": true
   },
   "outputs": [
    {
     "data": {
      "text/plain": [
       "[(0.6107707356301749, ['nigga', 'im', 'niggas', 'fuck', 'shit'])]"
      ]
     },
     "execution_count": 13,
     "metadata": {},
     "output_type": "execute_result"
    }
   ],
   "source": [
    "run_lda(test)"
   ]
  },
  {
   "cell_type": "code",
   "execution_count": 14,
   "metadata": {},
   "outputs": [
    {
     "data": {
      "text/plain": [
       "[]"
      ]
     },
     "execution_count": 14,
     "metadata": {},
     "output_type": "execute_result"
    }
   ],
   "source": [
    "run_ner(test)"
   ]
  },
  {
   "cell_type": "code",
   "execution_count": null,
   "metadata": {},
   "outputs": [],
   "source": []
  }
 ],
 "metadata": {
  "kernelspec": {
   "display_name": "Python 3",
   "language": "python",
   "name": "python3"
  },
  "language_info": {
   "codemirror_mode": {
    "name": "ipython",
    "version": 3
   },
   "file_extension": ".py",
   "mimetype": "text/x-python",
   "name": "python",
   "nbconvert_exporter": "python",
   "pygments_lexer": "ipython3",
   "version": "3.7.9"
  }
 },
 "nbformat": 4,
 "nbformat_minor": 4
}
