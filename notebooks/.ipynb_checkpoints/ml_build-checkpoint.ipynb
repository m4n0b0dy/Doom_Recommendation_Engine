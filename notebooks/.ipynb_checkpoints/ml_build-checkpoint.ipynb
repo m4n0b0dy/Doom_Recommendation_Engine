{
 "cells": [
  {
   "cell_type": "code",
   "execution_count": 1,
   "metadata": {},
   "outputs": [],
   "source": [
    "from transformers import BertTokenizer, BertModel\n",
    "import torch"
   ]
  },
  {
   "cell_type": "code",
   "execution_count": 2,
   "metadata": {},
   "outputs": [],
   "source": [
    "#embedding model\n",
    "tokenizer = BertTokenizer.from_pretrained('bert-base-uncased')\n",
    "model = BertModel.from_pretrained('bert-base-uncased')\n",
    "tokenizer.save_pretrained('../models/embedding_models/tokenizer/')\n",
    "model.save_pretrained('../models/embedding_models/model/')"
   ]
  },
  {
   "cell_type": "code",
   "execution_count": null,
   "metadata": {},
   "outputs": [],
   "source": [
    "#how to use\n",
    "input_ids = torch.tensor(tokenizer.encode(\"Hello, my dog is cute\")).unsqueeze(0)#.to('cuda')  # Batch size 1\n",
    "outputs = model(input_ids)\n",
    "last_hidden_states = outputs[0][0].mean(axis=0)\n",
    "#last_hidden_states"
   ]
  },
  {
   "cell_type": "code",
   "execution_count": 6,
   "metadata": {
    "scrolled": true
   },
   "outputs": [
    {
     "data": {
      "application/vnd.jupyter.widget-view+json": {
       "model_id": "d363fb80e757469594f016ced190d9e6",
       "version_major": 2,
       "version_minor": 0
      },
      "text/plain": [
       "HBox(children=(HTML(value='Downloading'), FloatProgress(value=0.0, max=829.0), HTML(value='')))"
      ]
     },
     "metadata": {},
     "output_type": "display_data"
    },
    {
     "name": "stdout",
     "output_type": "stream",
     "text": [
      "\n"
     ]
    },
    {
     "data": {
      "application/vnd.jupyter.widget-view+json": {
       "model_id": "164c428a9b3f46e9a2fe9f90b0cf8649",
       "version_major": 2,
       "version_minor": 0
      },
      "text/plain": [
       "HBox(children=(HTML(value='Downloading'), FloatProgress(value=0.0, max=213450.0), HTML(value='')))"
      ]
     },
     "metadata": {},
     "output_type": "display_data"
    },
    {
     "name": "stdout",
     "output_type": "stream",
     "text": [
      "\n"
     ]
    },
    {
     "data": {
      "application/vnd.jupyter.widget-view+json": {
       "model_id": "cdd17a3ea5034610a2889c3f9857c9c1",
       "version_major": 2,
       "version_minor": 0
      },
      "text/plain": [
       "HBox(children=(HTML(value='Downloading'), FloatProgress(value=0.0, max=2.0), HTML(value='')))"
      ]
     },
     "metadata": {},
     "output_type": "display_data"
    },
    {
     "name": "stdout",
     "output_type": "stream",
     "text": [
      "\n"
     ]
    },
    {
     "data": {
      "application/vnd.jupyter.widget-view+json": {
       "model_id": "6ab38f4095a84a3abbdef15b402bbd27",
       "version_major": 2,
       "version_minor": 0
      },
      "text/plain": [
       "HBox(children=(HTML(value='Downloading'), FloatProgress(value=0.0, max=112.0), HTML(value='')))"
      ]
     },
     "metadata": {},
     "output_type": "display_data"
    },
    {
     "name": "stdout",
     "output_type": "stream",
     "text": [
      "\n"
     ]
    },
    {
     "data": {
      "application/vnd.jupyter.widget-view+json": {
       "model_id": "0978ed6ad5994cc1bec1349f5662142d",
       "version_major": 2,
       "version_minor": 0
      },
      "text/plain": [
       "HBox(children=(HTML(value='Downloading'), FloatProgress(value=0.0, max=59.0), HTML(value='')))"
      ]
     },
     "metadata": {},
     "output_type": "display_data"
    },
    {
     "name": "stdout",
     "output_type": "stream",
     "text": [
      "\n"
     ]
    },
    {
     "data": {
      "application/vnd.jupyter.widget-view+json": {
       "model_id": "f0240a0a00f7460bb94aea8b7abb18ae",
       "version_major": 2,
       "version_minor": 0
      },
      "text/plain": [
       "HBox(children=(HTML(value='Downloading'), FloatProgress(value=0.0, max=433316646.0), HTML(value='')))"
      ]
     },
     "metadata": {},
     "output_type": "display_data"
    },
    {
     "name": "stdout",
     "output_type": "stream",
     "text": [
      "\n"
     ]
    }
   ],
   "source": [
    "from transformers import AutoTokenizer, AutoModelForTokenClassification\n",
    "tokenizer = AutoTokenizer.from_pretrained(\"dslim/bert-base-NER\")\n",
    "model = AutoModelForTokenClassification.from_pretrained(\"dslim/bert-base-NER\")"
   ]
  },
  {
   "cell_type": "code",
   "execution_count": 7,
   "metadata": {},
   "outputs": [],
   "source": [
    "tokenizer.save_pretrained('../models/ner_models/tokenizer/')\n",
    "model.save_pretrained('../models/ner_models/model/')"
   ]
  },
  {
   "cell_type": "code",
   "execution_count": null,
   "metadata": {},
   "outputs": [],
   "source": []
  },
  {
   "cell_type": "code",
   "execution_count": 5,
   "metadata": {
    "scrolled": true
   },
   "outputs": [
    {
     "data": {
      "text/plain": [
       "tensor([-1.2362e-01,  2.9485e-01,  2.5757e-01, -2.2066e-01,  3.4766e-01,\n",
       "        -9.3954e-02,  1.1316e-01,  4.9086e-01, -1.2234e-01, -6.5757e-02,\n",
       "         4.2485e-02, -5.7544e-01,  1.2901e-02,  2.6503e-01, -5.2665e-01,\n",
       "         1.9257e-01, -1.5899e-02,  1.2739e-01, -8.0967e-02,  5.2326e-01,\n",
       "         8.8391e-02, -2.9528e-01, -1.3920e-01, -2.9302e-02,  2.4777e-01,\n",
       "         1.3317e-01,  6.7400e-02,  5.0612e-01, -1.3197e-01, -3.6454e-01,\n",
       "         1.9956e-01, -1.5117e-01,  2.3758e-01,  1.0169e-01, -5.5931e-02,\n",
       "         1.3713e-02, -1.6105e-02, -7.7839e-02, -8.3870e-01,  2.9718e-01,\n",
       "        -2.3864e-01, -3.0675e-01,  3.7656e-02, -2.0276e-01, -3.9148e-01,\n",
       "        -4.6874e-01, -2.1807e-01, -7.8705e-02,  5.3564e-01, -4.6390e-01,\n",
       "         9.8534e-02,  3.1214e-02, -4.4604e-01,  2.1042e-02,  1.0481e-02,\n",
       "         3.3731e-01, -1.9088e-01, -7.7696e-01, -1.3896e-02,  1.0732e-01,\n",
       "         1.2694e-01,  8.3918e-03,  3.2634e-01, -3.3698e-01, -2.1239e-01,\n",
       "         2.0737e-01, -5.0056e-02,  1.7274e-01, -4.4752e-01,  3.9722e-01,\n",
       "        -6.3532e-02, -2.7388e-01, -7.5812e-02,  3.3860e-01, -1.0838e-01,\n",
       "        -5.7348e-02,  1.8771e-01,  2.5129e-01, -1.9440e-01,  9.0874e-02,\n",
       "         1.0208e-02,  3.1449e-01,  2.0518e-01,  3.5058e-01,  8.6389e-02,\n",
       "         1.9323e-01, -6.5116e-02,  2.6746e-01, -2.6976e-01,  3.6161e-01,\n",
       "         3.1684e-01, -4.7688e-01, -1.4892e-01,  1.4444e-01,  4.9988e-01,\n",
       "        -2.0661e-01, -2.4838e-01, -6.8551e-02, -8.3627e-02, -2.5136e-01,\n",
       "        -1.1547e-01, -2.2806e-01,  1.2667e-01,  4.7890e-01, -2.8327e-01,\n",
       "        -2.5660e-01,  5.4485e-01, -1.7720e-01, -1.1868e-01, -2.6968e-01,\n",
       "         2.0401e-01, -3.8023e-01,  5.7136e-02, -1.9532e-01, -1.6511e-01,\n",
       "         1.0812e+00,  4.7573e-01, -1.2600e-01, -3.1647e-01,  1.7243e-01,\n",
       "        -1.8055e-02, -2.4394e-01,  1.0204e-01,  6.1345e-01,  4.6440e-01,\n",
       "         5.9367e-02,  5.2217e-02, -1.1609e-01,  7.6511e-02, -3.7961e-01,\n",
       "         2.4246e-01,  3.0908e-01,  3.0037e-01, -2.3549e-01, -2.4608e-02,\n",
       "         3.4224e-01,  8.5400e-02, -5.3139e-01, -2.8653e-01, -1.6982e-01,\n",
       "         2.1430e-01,  2.9531e-01, -2.1978e-01,  2.3505e-01,  1.8112e-01,\n",
       "         9.7185e-02, -2.7959e-01,  1.7396e-01, -1.1735e-02, -2.0097e-01,\n",
       "         1.7304e-02, -1.1121e-01, -4.2329e-01, -9.3448e-02, -1.2067e-01,\n",
       "        -3.9297e-01, -2.9024e-01,  1.0485e-01,  2.4687e-01,  2.3898e-01,\n",
       "         3.5753e-01, -2.0051e-01, -1.8323e-01,  4.4563e-01, -2.7738e-01,\n",
       "         8.9076e-02,  5.2356e-01,  4.2018e-01, -2.5789e-01,  1.4217e-01,\n",
       "        -1.3481e-01,  8.5448e-03,  7.0133e-01,  9.6011e-02,  2.5808e-01,\n",
       "        -5.5117e-02,  6.3049e-01, -4.1355e-01, -1.8428e-01, -2.5804e-02,\n",
       "        -1.2177e+00, -2.9631e-01, -4.5426e-02,  1.2028e-01,  4.0780e-01,\n",
       "        -3.8361e-01,  1.6907e-01, -6.6106e-01,  2.6543e-01, -4.9909e-02,\n",
       "        -2.1881e-01, -4.2954e-01, -2.7262e-01,  2.4448e-01,  4.1818e-01,\n",
       "        -1.4856e-01,  6.0658e-02, -5.4137e-01, -8.1160e-02,  2.2582e-01,\n",
       "         7.2870e-02, -1.7148e-01,  1.8659e-01,  5.1902e-01, -5.3815e-02,\n",
       "         3.2865e-01, -3.4258e-02,  4.4238e-02,  8.8184e-03,  3.4989e-01,\n",
       "        -2.5521e-01,  5.3308e-01,  4.1137e-01,  1.5576e-01,  3.3033e-01,\n",
       "         7.2311e-02,  3.8328e-01, -2.5964e-01, -5.6814e-01,  3.5455e-01,\n",
       "         8.3171e-02,  2.7949e-02, -6.2709e-01,  6.5854e-01,  1.2531e-01,\n",
       "         6.5365e-02,  5.5096e-01, -2.4300e-01,  1.5067e-01,  2.9283e-01,\n",
       "        -1.2442e-01, -4.2693e-01,  2.7091e-01,  3.9563e-02, -3.0230e-01,\n",
       "         3.5698e-01, -1.7077e-01, -6.1218e-01,  1.5146e-01,  1.0536e-01,\n",
       "        -1.9878e-02,  5.8739e-01,  6.7857e-01,  4.6462e-03, -1.9186e-01,\n",
       "        -5.8352e-02,  1.8806e-01,  1.2625e-01, -2.4629e-02, -2.5638e-01,\n",
       "        -3.1795e-02, -8.4200e-01,  4.5279e-01, -4.8810e-01,  9.4629e-02,\n",
       "        -3.3166e-01, -2.4215e-01,  1.2092e-01,  1.3345e-02,  7.8267e-03,\n",
       "         4.9589e-01,  6.7411e-02,  6.3150e-01, -2.8905e-01, -3.6508e-01,\n",
       "         1.9686e-01, -5.0036e-02,  4.5065e-02,  1.5235e-01, -4.2258e-02,\n",
       "         2.6913e-01,  3.4787e-02,  9.3356e-02, -2.4372e-03,  1.3234e-01,\n",
       "        -4.8391e-01,  5.1491e-01,  8.7678e-02,  6.9424e-02, -6.4848e-01,\n",
       "         2.9917e-01,  3.9965e-01, -9.7743e-01, -2.5725e-01,  1.7015e-03,\n",
       "        -4.1989e-01,  7.5974e-02, -3.7516e-01,  5.8480e-02, -2.2594e-01,\n",
       "        -1.7799e-01,  4.1402e-02, -1.6708e-01,  1.0853e-01,  1.4962e-01,\n",
       "         1.8009e-01,  7.0188e-01,  9.3841e-02,  2.2285e-02, -1.4878e-01,\n",
       "         2.9302e-01, -1.5627e-01,  2.2076e-01,  5.7846e-02, -1.5436e-01,\n",
       "         2.3267e-01, -1.3972e-01, -7.1781e-01, -3.2814e+00, -2.6474e-01,\n",
       "         5.4924e-03, -3.7985e-01,  8.4742e-02, -2.7693e-02,  2.7592e-01,\n",
       "        -7.5948e-02, -5.5127e-01,  4.2871e-01,  9.0312e-02, -2.3691e-01,\n",
       "         6.4933e-01, -1.5929e-01,  2.9445e-01, -5.9710e-01,  1.9952e-01,\n",
       "        -2.0311e-01, -3.0757e-01,  4.1702e-01, -1.3966e-01,  1.1526e-01,\n",
       "         1.6774e-01, -3.5464e-01,  4.7424e-01,  5.0678e-01,  1.1518e-01,\n",
       "        -5.4790e-02, -3.0352e-01, -1.3025e-02, -1.7856e-01, -1.9814e-01,\n",
       "        -3.2828e-02,  2.9581e-01, -4.0534e-03,  8.6399e-02,  5.2556e-01,\n",
       "        -2.7594e-03,  2.3004e-01,  9.7529e-02,  5.0131e-01, -1.6974e-01,\n",
       "         6.3936e-02, -9.8846e-02,  2.4526e-01, -2.8818e-01, -3.5418e-01,\n",
       "        -5.9270e-01,  8.5800e-02,  4.0716e-02, -3.5260e-03,  3.7941e-03,\n",
       "        -9.7148e-02, -1.5846e-01,  4.2539e-01, -1.9072e-01,  1.4426e-01,\n",
       "         5.0221e-01, -4.5130e-01, -3.5926e-01,  1.1768e-01, -2.6506e-01,\n",
       "        -1.1949e-01, -1.6679e-01, -2.4010e-01, -4.0140e-02, -5.9662e-01,\n",
       "        -5.8205e-01, -1.4802e-01,  4.5898e-01,  2.8407e-01, -3.4486e-01,\n",
       "        -1.7153e-01, -1.2393e+00, -4.8504e-01, -1.8386e-02, -2.0603e-01,\n",
       "        -3.8127e-01,  2.5400e-01, -2.4671e-01, -2.7887e-01, -3.1594e-01,\n",
       "         1.5207e-01,  2.6431e-01, -2.0810e-01, -5.4394e-01, -1.8037e-01,\n",
       "        -3.6949e-01,  3.8808e-02, -1.0290e-01,  2.2388e-01,  5.6920e-02,\n",
       "        -9.7739e-02,  4.2610e-01,  3.6040e-01, -1.5239e-01,  1.2957e-01,\n",
       "        -2.3690e-01,  1.2329e-01,  2.3739e-02,  2.2943e-01,  2.6831e-01,\n",
       "         5.2076e-01,  1.3192e-01,  5.5645e-01,  2.6720e-01, -6.4956e-01,\n",
       "         2.1375e-01,  1.8398e-01,  1.2651e-01,  4.5430e-02, -6.9228e-01,\n",
       "         2.1128e-01, -3.4109e-01,  5.0562e-02, -9.3141e-03,  3.9322e-01,\n",
       "         7.3471e-01, -2.2972e-01,  5.3711e-02, -2.6808e-01,  3.1084e-01,\n",
       "        -1.0218e-01, -3.1021e-01, -4.3357e-01,  3.2520e-03, -1.6461e-01,\n",
       "        -2.6858e-01, -3.9278e-01, -1.8888e-02,  3.3429e-01, -2.1964e-02,\n",
       "        -4.4953e-01, -8.1995e-02,  3.1565e-01,  2.1748e-01, -3.3614e-01,\n",
       "        -5.4814e-01,  2.5359e-02,  6.6511e-02, -2.5735e-01,  2.3930e-01,\n",
       "        -2.9725e-01,  1.7801e-01, -3.3083e-02,  1.7829e-01, -1.4051e-01,\n",
       "        -3.1890e-01,  3.0968e-01,  1.8291e-01,  3.1475e-02, -2.6874e-01,\n",
       "         7.5900e-02, -3.3560e-01,  2.7329e-01, -3.6703e-02,  4.5926e-01,\n",
       "        -1.9414e-01, -5.5309e-01, -1.0485e-02,  1.7462e-01, -9.0093e-02,\n",
       "         5.3644e-02,  3.4909e-01, -1.5116e-01,  2.1371e-01,  2.6379e-01,\n",
       "         2.9029e-02, -2.4348e-01,  1.4283e-01,  1.5195e-01, -1.1638e-01,\n",
       "        -3.3265e-02,  6.8356e-02, -2.2128e-01,  1.8529e-01, -2.8689e-01,\n",
       "        -2.0449e-01,  1.8356e-01, -2.1439e-02,  1.2963e-02, -2.1971e-01,\n",
       "        -2.0380e-02,  1.1412e-01,  5.1463e-01,  3.7008e-01,  9.6060e-02,\n",
       "        -4.6990e-01,  3.3409e-01,  1.7640e-01, -1.4225e-01,  5.8611e-01,\n",
       "        -1.4479e-01, -4.3266e-01, -5.9188e-01, -2.7255e-01,  4.6556e-01,\n",
       "        -3.6387e-01, -9.4220e-03,  3.3658e-01, -7.4683e-02,  2.8948e-01,\n",
       "        -2.6334e-02, -1.4593e-01, -1.3232e-01, -3.6366e-01, -4.2408e-02,\n",
       "         1.4219e-01, -9.3082e-02,  2.5266e-01,  1.5461e-03, -6.2529e-01,\n",
       "        -4.7827e-02, -3.9382e-01, -2.1195e-02,  2.0663e-01,  1.6013e-01,\n",
       "         6.9767e-02, -2.0547e-01, -6.5224e-02, -5.1170e-01, -2.3086e-01,\n",
       "        -1.6687e-01, -1.8501e-01, -4.5260e-01, -6.5795e-01, -4.6425e-01,\n",
       "        -6.9893e-02, -4.6989e-01, -3.7468e-01,  2.0288e-01, -1.9844e-01,\n",
       "         2.4491e-01, -1.7535e-01, -2.1963e-01,  3.1947e-02, -1.0712e-01,\n",
       "         6.7471e-02, -5.4929e-02,  3.1838e-01,  3.0154e-01, -4.0667e-02,\n",
       "         1.5629e-01, -5.4777e-01,  2.0803e-01, -1.2906e-01, -2.3558e-01,\n",
       "         5.2728e-01, -3.2934e-03,  4.3730e-01, -2.3396e-02,  2.3205e-01,\n",
       "         1.3531e-01,  5.5443e-02,  1.9276e-01, -4.7088e-03, -6.6009e-01,\n",
       "         3.3539e-01, -1.7844e-01,  1.5616e-01, -3.2859e-01, -2.2185e-02,\n",
       "        -1.0462e-03,  4.1191e-01,  2.5571e-02, -1.7854e-01, -4.9353e-02,\n",
       "        -7.7357e-02,  1.8802e-03,  8.4411e-02, -4.7503e-01, -2.4627e-01,\n",
       "         4.1085e-01, -3.1441e-01, -8.9824e-02, -2.7175e-01, -1.1048e-03,\n",
       "        -4.7662e-01,  1.1663e-01, -1.0832e-01,  2.9959e-01,  5.5821e-01,\n",
       "        -3.2252e-01, -1.6895e-01,  4.7605e-01, -1.9590e-01, -3.6687e-01,\n",
       "         2.7888e-01, -5.3726e-02,  3.5313e-01,  7.1873e-02,  3.1447e-01,\n",
       "        -1.0987e-01, -1.0680e-02,  1.1550e-01,  3.4610e-01,  5.6827e-02,\n",
       "         4.8716e-01, -3.5812e-01, -6.6938e-02, -3.5156e-01,  3.4982e-02,\n",
       "         6.5595e-02,  1.9995e-01, -1.4404e-01,  7.6494e-03,  8.6205e-02,\n",
       "        -2.9818e-02, -2.7629e-01,  9.6164e-02, -2.4004e-01, -3.9494e-01,\n",
       "         3.8153e-01,  5.1510e-01, -3.4137e-01,  1.0552e-01,  9.6041e-02,\n",
       "        -1.3077e-01, -1.6365e-01,  3.4665e-01,  2.3725e-01, -2.9030e-01,\n",
       "         4.3139e-01,  2.5492e-01,  2.6426e-01,  4.8479e-01, -8.1474e-01,\n",
       "         1.3129e-01,  1.5704e-01,  6.7292e-01, -2.5730e-01,  7.9707e-02,\n",
       "        -2.1364e-01,  5.6815e-01,  1.1532e-01, -1.9072e-01,  1.4628e-01,\n",
       "        -3.2180e-01, -1.1084e-01,  1.8717e-01, -2.7253e-01,  8.9151e-02,\n",
       "         6.2932e-02,  6.7280e-01,  3.2713e-01,  1.2561e-02, -1.7160e-02,\n",
       "        -3.9440e-01,  4.7183e-01,  1.9388e-01,  2.4764e-01,  3.0769e-01,\n",
       "        -1.9386e-01, -4.4967e-01,  6.6140e-02,  2.5657e-01,  1.8140e-01,\n",
       "        -2.2498e-01,  4.8621e-02, -3.4827e-01, -2.6714e-01,  4.6714e-02,\n",
       "         2.6109e-02, -1.3676e-01,  2.1630e-01,  4.2820e-01,  2.4679e-01,\n",
       "        -2.6383e-01, -5.8922e-02,  3.9797e-01, -2.9394e-02,  4.0798e-01,\n",
       "         1.1894e-01,  5.1840e-01, -1.7152e-01,  5.3323e-01, -3.0386e-01,\n",
       "        -5.1849e-01, -3.5630e-01, -5.4764e-02, -1.1350e-01,  3.5504e-01,\n",
       "        -4.4703e-01, -3.9380e-01,  5.2207e-02, -2.1404e-01, -1.3489e-01,\n",
       "        -4.9802e-01, -2.0746e-01, -4.0359e-01,  3.7984e-01, -5.7418e-01,\n",
       "         5.8821e-02, -3.8918e-01,  2.6296e-01, -7.2472e-01,  6.4716e-01,\n",
       "         3.5998e-01,  3.2739e-01, -1.0011e-01,  7.5458e-01, -3.8627e-01,\n",
       "        -1.6349e-01,  2.4714e-02, -1.6352e-02,  6.5067e-02,  1.9583e-01,\n",
       "         2.5974e-01,  9.5302e-02, -4.6878e-01, -1.3445e-01,  4.5188e-01,\n",
       "        -5.5596e-01,  1.1933e-01, -3.6543e-02,  4.3019e-02,  5.4122e-02,\n",
       "         8.1002e-02, -3.0239e-01,  7.5979e-02,  5.5477e-02, -3.9406e-01,\n",
       "         1.3838e-01,  1.3271e-01, -1.9553e-01, -1.4244e-01,  2.9621e-01,\n",
       "         3.2563e-01, -1.2174e-01, -2.8818e-01,  5.2324e-02,  1.5824e-01,\n",
       "         2.6453e-01, -1.1584e-01,  1.4612e-01, -3.6389e-01, -2.4649e-02,\n",
       "        -2.4749e-01,  1.5174e-01, -4.2907e-01,  2.6926e-01, -1.3972e-02,\n",
       "        -2.9086e-02,  7.8001e-02, -1.2239e+00,  4.2751e-01,  1.4166e-01,\n",
       "        -4.0224e-01,  2.2845e-02, -8.3189e-01,  1.8128e-01,  9.8604e-02,\n",
       "        -7.5144e-03, -1.5535e-01,  1.0993e-01, -1.9191e-01,  1.4684e-01,\n",
       "        -3.5178e-01,  1.7790e-01,  3.4013e-01], grad_fn=<MeanBackward1>)"
      ]
     },
     "execution_count": 5,
     "metadata": {},
     "output_type": "execute_result"
    }
   ],
   "source": []
  },
  {
   "cell_type": "code",
   "execution_count": null,
   "metadata": {},
   "outputs": [],
   "source": []
  },
  {
   "cell_type": "code",
   "execution_count": 7,
   "metadata": {},
   "outputs": [],
   "source": [
    "#from transformers import AutoTokenizer, AutoModelForSeq2SeqLM\n",
    "\n",
    "#tokenizer = AutoTokenizer.from_pretrained(\"google/pegasus-multi_news\")\n",
    "\n",
    "#model = AutoModelForSeq2SeqLM.from_pretrained(\"google/pegasus-multi_news\")\n"
   ]
  },
  {
   "cell_type": "code",
   "execution_count": 8,
   "metadata": {},
   "outputs": [],
   "source": [
    "tokenizer.save_pretrained(\"token\")\n",
    "model.save_pretrained(\"model\")"
   ]
  },
  {
   "cell_type": "code",
   "execution_count": 26,
   "metadata": {},
   "outputs": [
    {
     "data": {
      "text/plain": [
       "torch.Size([768])"
      ]
     },
     "execution_count": 26,
     "metadata": {},
     "output_type": "execute_result"
    }
   ],
   "source": [
    "last_hidden_states.shape"
   ]
  },
  {
   "cell_type": "code",
   "execution_count": 4,
   "metadata": {},
   "outputs": [],
   "source": [
    "for i in range(1000):\n",
    "    input_ids = torch.tensor(tokenizer.encode(str(i)+\"Hello, my dog is cute\")).unsqueeze(0).to('cuda')  # Batch size 1\n",
    "    outputs = model(input_ids)\n",
    "    last_hidden_states = outputs[0][0]"
   ]
  },
  {
   "cell_type": "code",
   "execution_count": null,
   "metadata": {},
   "outputs": [],
   "source": []
  },
  {
   "cell_type": "code",
   "execution_count": 11,
   "metadata": {},
   "outputs": [],
   "source": [
    "from embeddings import *"
   ]
  },
  {
   "cell_type": "code",
   "execution_count": 14,
   "metadata": {},
   "outputs": [],
   "source": [
    "mod = BertEmbeddings('token/','model/')"
   ]
  },
  {
   "cell_type": "code",
   "execution_count": 15,
   "metadata": {},
   "outputs": [
    {
     "ename": "TypeError",
     "evalue": "mean() received an invalid combination of arguments - got (str, dim=int), but expected one of:\n * (Tensor input, *, torch.dtype dtype)\n * (Tensor input, tuple of names dim, bool keepdim, *, torch.dtype dtype, Tensor out)\n * (Tensor input, tuple of ints dim, bool keepdim, *, torch.dtype dtype, Tensor out)\n",
     "output_type": "error",
     "traceback": [
      "\u001b[0;31m---------------------------------------------------------------------------\u001b[0m",
      "\u001b[0;31mTypeError\u001b[0m                                 Traceback (most recent call last)",
      "\u001b[0;32m<ipython-input-15-b0c82892ff1c>\u001b[0m in \u001b[0;36m<module>\u001b[0;34m\u001b[0m\n\u001b[0;32m----> 1\u001b[0;31m \u001b[0mmod\u001b[0m\u001b[0;34m.\u001b[0m\u001b[0msentence_vector\u001b[0m\u001b[0;34m(\u001b[0m\u001b[0;34m'Hello, my dog is cute'\u001b[0m\u001b[0;34m)\u001b[0m\u001b[0;34m\u001b[0m\u001b[0;34m\u001b[0m\u001b[0m\n\u001b[0m",
      "\u001b[0;32m~/projects/OpenNRE/embeddings.py\u001b[0m in \u001b[0;36msentence_vector\u001b[0;34m(self, text)\u001b[0m\n\u001b[1;32m     60\u001b[0m                 \u001b[0mself\u001b[0m\u001b[0;34m.\u001b[0m\u001b[0msentence_tokens\u001b[0m \u001b[0;34m=\u001b[0m \u001b[0mtokenized_text\u001b[0m\u001b[0;34m\u001b[0m\u001b[0;34m\u001b[0m\u001b[0m\n\u001b[1;32m     61\u001b[0m                 \u001b[0mencoded_layers\u001b[0m \u001b[0;34m=\u001b[0m \u001b[0mself\u001b[0m\u001b[0;34m.\u001b[0m\u001b[0meval_fwdprop_bert\u001b[0m\u001b[0;34m(\u001b[0m\u001b[0mtokenized_text\u001b[0m\u001b[0;34m)\u001b[0m\u001b[0;34m\u001b[0m\u001b[0;34m\u001b[0m\u001b[0m\n\u001b[0;32m---> 62\u001b[0;31m                 \u001b[0msentence_embedding\u001b[0m \u001b[0;34m=\u001b[0m \u001b[0mtorch\u001b[0m\u001b[0;34m.\u001b[0m\u001b[0mmean\u001b[0m\u001b[0;34m(\u001b[0m\u001b[0mencoded_layers\u001b[0m\u001b[0;34m[\u001b[0m\u001b[0;36m0\u001b[0m\u001b[0;34m]\u001b[0m\u001b[0;34m,\u001b[0m \u001b[0mdim\u001b[0m\u001b[0;34m=\u001b[0m\u001b[0;36m0\u001b[0m\u001b[0;34m)\u001b[0m\u001b[0;34m\u001b[0m\u001b[0;34m\u001b[0m\u001b[0m\n\u001b[0m\u001b[1;32m     63\u001b[0m                 \u001b[0;32mreturn\u001b[0m \u001b[0msentence_embedding\u001b[0m\u001b[0;34m\u001b[0m\u001b[0;34m\u001b[0m\u001b[0m\n",
      "\u001b[0;31mTypeError\u001b[0m: mean() received an invalid combination of arguments - got (str, dim=int), but expected one of:\n * (Tensor input, *, torch.dtype dtype)\n * (Tensor input, tuple of names dim, bool keepdim, *, torch.dtype dtype, Tensor out)\n * (Tensor input, tuple of ints dim, bool keepdim, *, torch.dtype dtype, Tensor out)\n"
     ]
    }
   ],
   "source": [
    "mod.sentence_vector('Hello, my dog is cute')"
   ]
  },
  {
   "cell_type": "code",
   "execution_count": null,
   "metadata": {},
   "outputs": [],
   "source": []
  }
 ],
 "metadata": {
  "kernelspec": {
   "display_name": "Python 3",
   "language": "python",
   "name": "python3"
  },
  "language_info": {
   "codemirror_mode": {
    "name": "ipython",
    "version": 3
   },
   "file_extension": ".py",
   "mimetype": "text/x-python",
   "name": "python",
   "nbconvert_exporter": "python",
   "pygments_lexer": "ipython3",
   "version": "3.7.9"
  }
 },
 "nbformat": 4,
 "nbformat_minor": 4
}
