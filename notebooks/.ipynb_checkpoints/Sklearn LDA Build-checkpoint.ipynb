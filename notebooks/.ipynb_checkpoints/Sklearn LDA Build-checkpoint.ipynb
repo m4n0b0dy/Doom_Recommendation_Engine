{
 "cells": [
  {
   "cell_type": "code",
   "execution_count": 1,
   "metadata": {},
   "outputs": [],
   "source": [
    "import pandas as pd\n",
    "df = pd.read_csv('../data/clean_verse_data.csv').dropna().drop_duplicates()"
   ]
  },
  {
   "cell_type": "code",
   "execution_count": 2,
   "metadata": {},
   "outputs": [
    {
     "data": {
      "text/html": [
       "<div>\n",
       "<style scoped>\n",
       "    .dataframe tbody tr th:only-of-type {\n",
       "        vertical-align: middle;\n",
       "    }\n",
       "\n",
       "    .dataframe tbody tr th {\n",
       "        vertical-align: top;\n",
       "    }\n",
       "\n",
       "    .dataframe thead th {\n",
       "        text-align: right;\n",
       "    }\n",
       "</style>\n",
       "<table border=\"1\" class=\"dataframe\">\n",
       "  <thead>\n",
       "    <tr style=\"text-align: right;\">\n",
       "      <th></th>\n",
       "      <th>parent_artist</th>\n",
       "      <th>artist</th>\n",
       "      <th>album</th>\n",
       "      <th>song</th>\n",
       "      <th>verse</th>\n",
       "      <th>clean_verse</th>\n",
       "    </tr>\n",
       "  </thead>\n",
       "  <tbody>\n",
       "    <tr>\n",
       "      <th>0</th>\n",
       "      <td>DJ Jubilee</td>\n",
       "      <td>DJ Jubilee f/ Bigg Ramp</td>\n",
       "      <td>Bouncing All Over the World</td>\n",
       "      <td>Get Ignorant</td>\n",
       "      <td>Look, layin it down Respect my mind on the rea...</td>\n",
       "      <td>look, layin respect mind real look im v.l. uhh...</td>\n",
       "    </tr>\n",
       "    <tr>\n",
       "      <th>1</th>\n",
       "      <td>DJ Jubilee</td>\n",
       "      <td>DJ Jubilee f/ K.C. Redd, Bigg Ramp, Willie Puc...</td>\n",
       "      <td>Take it to the St. Thomas</td>\n",
       "      <td>Hot Girlz On Fire</td>\n",
       "      <td>K.C. Redd in here Anotha hit Rampage, Take Fo,...</td>\n",
       "      <td>k.c. redd anotha hit rampage, take fo, hot gir...</td>\n",
       "    </tr>\n",
       "    <tr>\n",
       "      <th>2</th>\n",
       "      <td>DJ Jubilee</td>\n",
       "      <td>DJ Jubilee f/ The Bounce Squad</td>\n",
       "      <td>Bouncin' All Over the World</td>\n",
       "      <td>Who They Want?</td>\n",
       "      <td>I say them girls want Kooly ya dig I say them ...</td>\n",
       "      <td>i girl want kooli ya dig i girl want kooli ya ...</td>\n",
       "    </tr>\n",
       "    <tr>\n",
       "      <th>3</th>\n",
       "      <td>DJ Jubilee</td>\n",
       "      <td>DJ Jubilee f/ U.N.L.V.</td>\n",
       "      <td>Bounce All Over the World</td>\n",
       "      <td>Cash, Cash Mo Money</td>\n",
       "      <td>Wusup, wusup look, man you got to get yo paper...</td>\n",
       "      <td>wusup, wusup look, man got yo paper right get ...</td>\n",
       "    </tr>\n",
       "    <tr>\n",
       "      <th>4</th>\n",
       "      <td>Young Rome</td>\n",
       "      <td>Young Rome f/ Rufus Blaq</td>\n",
       "      <td>Food For Thought</td>\n",
       "      <td>Crazy Girl</td>\n",
       "      <td>its only right that Im killin it homey put yo ...</td>\n",
       "      <td>right im killin homei yo hand feelin ladi free...</td>\n",
       "    </tr>\n",
       "  </tbody>\n",
       "</table>\n",
       "</div>"
      ],
      "text/plain": [
       "  parent_artist                                             artist  \\\n",
       "0    DJ Jubilee                            DJ Jubilee f/ Bigg Ramp   \n",
       "1    DJ Jubilee  DJ Jubilee f/ K.C. Redd, Bigg Ramp, Willie Puc...   \n",
       "2    DJ Jubilee                     DJ Jubilee f/ The Bounce Squad   \n",
       "3    DJ Jubilee                             DJ Jubilee f/ U.N.L.V.   \n",
       "4    Young Rome                           Young Rome f/ Rufus Blaq   \n",
       "\n",
       "                         album                 song  \\\n",
       "0  Bouncing All Over the World         Get Ignorant   \n",
       "1    Take it to the St. Thomas    Hot Girlz On Fire   \n",
       "2  Bouncin' All Over the World       Who They Want?   \n",
       "3    Bounce All Over the World  Cash, Cash Mo Money   \n",
       "4             Food For Thought           Crazy Girl   \n",
       "\n",
       "                                               verse  \\\n",
       "0  Look, layin it down Respect my mind on the rea...   \n",
       "1  K.C. Redd in here Anotha hit Rampage, Take Fo,...   \n",
       "2  I say them girls want Kooly ya dig I say them ...   \n",
       "3  Wusup, wusup look, man you got to get yo paper...   \n",
       "4  its only right that Im killin it homey put yo ...   \n",
       "\n",
       "                                         clean_verse  \n",
       "0  look, layin respect mind real look im v.l. uhh...  \n",
       "1  k.c. redd anotha hit rampage, take fo, hot gir...  \n",
       "2  i girl want kooli ya dig i girl want kooli ya ...  \n",
       "3  wusup, wusup look, man got yo paper right get ...  \n",
       "4  right im killin homei yo hand feelin ladi free...  "
      ]
     },
     "execution_count": 2,
     "metadata": {},
     "output_type": "execute_result"
    }
   ],
   "source": [
    "df.head()"
   ]
  },
  {
   "cell_type": "code",
   "execution_count": 3,
   "metadata": {},
   "outputs": [],
   "source": [
    "from sklearn.decomposition import LatentDirichletAllocation as LDA\n",
    "from sklearn.feature_extraction.text import CountVectorizer"
   ]
  },
  {
   "cell_type": "code",
   "execution_count": 5,
   "metadata": {},
   "outputs": [],
   "source": [
    "# Initialise the count vectorizer with the English stop words\n",
    "count_vectorizer = CountVectorizer(stop_words='english')\n",
    "# Fit and transform the processed titles\n",
    "count_data = count_vectorizer.fit_transform(df['clean_verse'])"
   ]
  },
  {
   "cell_type": "code",
   "execution_count": null,
   "metadata": {},
   "outputs": [],
   "source": [
    "def print_topics(model, count_vectorizer, n_top_words):\n",
    "    words = count_vectorizer.get_feature_names()\n",
    "    for topic_idx, topic in enumerate(model.components_):\n",
    "        print(\"\\nTopic #%d:\" % topic_idx)\n",
    "        print(\" \".join([words[i]\n",
    "                        for i in topic.argsort()[:-n_top_words - 1:-1]]))"
   ]
  },
  {
   "cell_type": "code",
   "execution_count": 6,
   "metadata": {},
   "outputs": [
    {
     "name": "stderr",
     "output_type": "stream",
     "text": [
      "\n",
      "KeyboardInterrupt\n",
      "\n"
     ]
    }
   ],
   "source": [
    "# Tweak the two parameters below\n",
    "number_topics = 5\n",
    "number_words = 10\n",
    "# Create and fit the LDA model\n",
    "lda = LDA(n_components=number_topics, n_jobs=-1)\n",
    "lda.fit(count_data)\n",
    "# Print the topics found by the LDA model\n",
    "print(\"Topics found via LDA:\")\n",
    "print_topics(lda, count_vectorizer, number_words)"
   ]
  },
  {
   "cell_type": "code",
   "execution_count": null,
   "metadata": {},
   "outputs": [],
   "source": []
  }
 ],
 "metadata": {
  "kernelspec": {
   "display_name": "Python 3",
   "language": "python",
   "name": "python3"
  },
  "language_info": {
   "codemirror_mode": {
    "name": "ipython",
    "version": 3
   },
   "file_extension": ".py",
   "mimetype": "text/x-python",
   "name": "python",
   "nbconvert_exporter": "python",
   "pygments_lexer": "ipython3",
   "version": "3.7.9"
  }
 },
 "nbformat": 4,
 "nbformat_minor": 4
}
