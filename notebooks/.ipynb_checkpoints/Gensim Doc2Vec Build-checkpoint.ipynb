{
 "cells": [
  {
   "cell_type": "code",
   "execution_count": 14,
   "metadata": {},
   "outputs": [],
   "source": [
    "import os\n",
    "import gensim\n",
    "from gensim.parsing.porter import PorterStemmer\n",
    "from gensim.parsing.preprocessing import remove_stopwords\n",
    "from gensim.models.doc2vec import Doc2Vec, TaggedDocument\n",
    "from gensim.utils import simple_preprocess\n",
    "import time\n"
   ]
  },
  {
   "cell_type": "code",
   "execution_count": 2,
   "metadata": {},
   "outputs": [],
   "source": [
    "def read_corpus(docs, tokens_only=False):\n",
    "    p = PorterStemmer()\n",
    "    t = time.time()\n",
    "    for i, line in enumerate(docs):\n",
    "        line = remove_stopwords(line)\n",
    "        line = p.stem_sentence(line)\n",
    "        tokens = gensim.utils.simple_preprocess(line)\n",
    "        if i %10000==0:\n",
    "            print(i, time.time()-t)\n",
    "        if tokens_only:\n",
    "            yield ' '.join(tokens)\n",
    "        else:\n",
    "            yield gensim.models.doc2vec.TaggedDocument(tokens, [i])\n",
    "        "
   ]
  },
  {
   "cell_type": "code",
   "execution_count": 3,
   "metadata": {},
   "outputs": [],
   "source": [
    "#data was in improper format before\n",
    "with open('../data/all_text.txt','r', encoding=\"utf8\") as f:\n",
    "    data = f.read().split(' ---------- ')"
   ]
  },
  {
   "cell_type": "code",
   "execution_count": 4,
   "metadata": {},
   "outputs": [
    {
     "name": "stdout",
     "output_type": "stream",
     "text": [
      "0 0.002005338668823242\n",
      "10000 19.233164072036743\n",
      "20000 38.830894470214844\n",
      "30000 57.575406074523926\n",
      "40000 76.97895216941833\n",
      "50000 95.20600819587708\n",
      "60000 114.19446158409119\n",
      "70000 133.2357108592987\n",
      "80000 152.27474641799927\n",
      "90000 170.84954595565796\n",
      "100000 190.1770462989807\n",
      "110000 209.168292760849\n"
     ]
    }
   ],
   "source": [
    "#stem/stop word cleaning/tokenizing before saving\n",
    "tokenized_corpus = list(read_corpus(data,tokens_only=True))\n",
    "lined_data = '\\n'.join(tokenized_corpus)\n",
    "with open('../data/lined_all_text.txt','w', encoding=\"utf8\") as f:\n",
    "    f.write(lined_data)"
   ]
  },
  {
   "cell_type": "code",
   "execution_count": 2,
   "metadata": {},
   "outputs": [],
   "source": [
    "model = Doc2Vec(vector_size=1024,\n",
    "                epochs=20,\n",
    "                workers=12,#8\n",
    "                window=5,\n",
    "                min_count=5,\n",
    "                sample=1e-5,\n",
    "                negative=5,\n",
    "                dm=1)"
   ]
  },
  {
   "cell_type": "code",
   "execution_count": 3,
   "metadata": {},
   "outputs": [],
   "source": [
    "model.build_vocab(corpus_file='../data/lined_all_text.txt')"
   ]
  },
  {
   "cell_type": "code",
   "execution_count": 4,
   "metadata": {},
   "outputs": [
    {
     "name": "stdout",
     "output_type": "stream",
     "text": [
      "382.78553795814514\n"
     ]
    }
   ],
   "source": [
    "#using gensims built in load functionality\n",
    "t = time.time()\n",
    "model.train(corpus_file='../data/lined_all_text.txt',\n",
    "            #train_corpus,\n",
    "            total_words=model.corpus_total_words,\n",
    "            #total_examples=model.corpus_count,\n",
    "           epochs=model.epochs)\n",
    "print(time.time()-t)"
   ]
  },
  {
   "cell_type": "code",
   "execution_count": 10,
   "metadata": {},
   "outputs": [],
   "source": [
    "vector = model.infer_vector(data[5454].split(' '))"
   ]
  },
  {
   "cell_type": "code",
   "execution_count": 11,
   "metadata": {},
   "outputs": [
    {
     "data": {
      "text/plain": [
       "array([ 0.02453034,  0.12518424,  0.5898173 , ..., -0.20886329,\n",
       "        0.23093084,  0.29921034], dtype=float32)"
      ]
     },
     "execution_count": 11,
     "metadata": {},
     "output_type": "execute_result"
    }
   ],
   "source": [
    "vector"
   ]
  },
  {
   "cell_type": "code",
   "execution_count": 12,
   "metadata": {},
   "outputs": [],
   "source": [
    "model.save(\"../models/doc2vec.model\")"
   ]
  },
  {
   "cell_type": "code",
   "execution_count": 2,
   "metadata": {},
   "outputs": [],
   "source": [
    "from gensim.models import Doc2Vec\n",
    "model = Doc2Vec.load(\"../models/doc2vec/doc2vec.model\")"
   ]
  },
  {
   "cell_type": "code",
   "execution_count": 3,
   "metadata": {},
   "outputs": [],
   "source": [
    "vector = model.infer_vector(['hey','whats','up'])"
   ]
  },
  {
   "cell_type": "code",
   "execution_count": null,
   "metadata": {},
   "outputs": [],
   "source": []
  },
  {
   "cell_type": "code",
   "execution_count": 10,
   "metadata": {},
   "outputs": [],
   "source": [
    "with open('../data/lined_all_text.txt','r', encoding=\"utf8\") as f:\n",
    "    data = f.read()"
   ]
  },
  {
   "cell_type": "code",
   "execution_count": null,
   "metadata": {},
   "outputs": [],
   "source": []
  }
 ],
 "metadata": {
  "kernelspec": {
   "display_name": "Python 3",
   "language": "python",
   "name": "python3"
  },
  "language_info": {
   "codemirror_mode": {
    "name": "ipython",
    "version": 3
   },
   "file_extension": ".py",
   "mimetype": "text/x-python",
   "name": "python",
   "nbconvert_exporter": "python",
   "pygments_lexer": "ipython3",
   "version": "3.7.9"
  }
 },
 "nbformat": 4,
 "nbformat_minor": 4
}
