{
 "cells": [
  {
   "cell_type": "code",
   "execution_count": 1,
   "metadata": {},
   "outputs": [],
   "source": [
    "from elasticsearch import Elasticsearch"
   ]
  },
  {
   "cell_type": "code",
   "execution_count": 2,
   "metadata": {},
   "outputs": [],
   "source": [
    "es = Elasticsearch([{'host': 'localhost', 'port': 9200}])"
   ]
  },
  {
   "cell_type": "code",
   "execution_count": 3,
   "metadata": {},
   "outputs": [
    {
     "data": {
      "text/plain": [
       "[{'epoch': '1609136521', 'timestamp': '06:22:01', 'count': '113167'}]"
      ]
     },
     "execution_count": 3,
     "metadata": {},
     "output_type": "execute_result"
    }
   ],
   "source": [
    "es.indices.refresh('production_index')\n",
    "es.cat.count('production_index', params={\"format\": \"json\"})"
   ]
  },
  {
   "cell_type": "code",
   "execution_count": 4,
   "metadata": {},
   "outputs": [],
   "source": [
    "import sys\n",
    "sys.path.insert(0, '../tools/')\n",
    "from live_models import *"
   ]
  },
  {
   "cell_type": "code",
   "execution_count": 5,
   "metadata": {},
   "outputs": [],
   "source": [
    "verse='''\n",
    "The Villain again? Without a doubt\n",
    "That's his name, don't play it out\n",
    "Or spray it, when you say it out your mouth\n",
    "Then gave him a cold shoulder for a hour\n",
    "And told him take a gold shower, for faking funk, soul power\n",
    "Stocky, short and cocky\n",
    "Looked like Apollo Creed after he fought with Rocky\n",
    "Rhymed in a broken English slang, not cockney\n",
    "Thirteen, his first queen wore hot knock knees\n",
    "Had to tell her pops, yo stop cock blocking 'B'\n",
    "Hold something for your daily 'ya' habit\n",
    "Then go, bada-bing-bing-bing like ricochet rabbit\n",
    "How 'bout the sicko say stab it?\n",
    "There's liquor in the cabinet and a slicker for the crafted\n",
    "And Heineken, I told him much obliged friend\n",
    "What I gotta spend, if I only touch her thighs then?\n",
    "Why his eyes widened\n",
    "He didn't know your man had a nice surprise hiding\n",
    "Took pride in riding in a sly wise guy grin\n",
    "'''"
   ]
  },
  {
   "cell_type": "code",
   "execution_count": 6,
   "metadata": {},
   "outputs": [
    {
     "name": "stdout",
     "output_type": "stream",
     "text": [
      "\n",
      "['Apollo', 'Creed', 'Rocky', 'R', '##hy', '##med', 'English', 'He', '##ken']\n"
     ]
    }
   ],
   "source": [
    "search_vector = run_embedding(verse)\n",
    "search_topics = run_lda(verse)\n",
    "search_ents = run_ner(verse)\n",
    "print(search_topics)\n",
    "print(search_ents)"
   ]
  },
  {
   "cell_type": "code",
   "execution_count": 7,
   "metadata": {},
   "outputs": [],
   "source": [
    "def pull_relevant(results):\n",
    "\tret_results = []\n",
    "\tfor result in results:\n",
    "\t\tind_results = {'score':result['_score'],\n",
    "\t\t'parent_artist':result['_source']['parent_artist'],\n",
    "\t\t'artist':result['_source']['artist'],\n",
    "\t\t'album':result['_source']['album'],\n",
    "\t\t'song':result['_source']['song'],\n",
    "\t\t'verse_topics':result['_source']['verse_topics'],\n",
    "\t\t'verse_entities':result['_source']['verse_entities'],\n",
    "\t\t'verse':result['_source']['verse']}\n",
    "\t\tret_results.append(ind_results)\n",
    "\treturn ret_results"
   ]
  },
  {
   "cell_type": "code",
   "execution_count": 8,
   "metadata": {},
   "outputs": [],
   "source": [
    "def form_query(embedding,\n",
    "\t\t\t   topics,\n",
    "\t\t\t   entities,\n",
    "\t\t\t   topic_boost=1,\n",
    "\t\t\t   entity_boost=1,\n",
    "\t\t\t  embedding_boost=1):\n",
    "\tquery = {\n",
    "   \"query\":{\n",
    "\t  \"script_score\":{\n",
    "\t\t \"query\":{\n",
    "\t\t\t\"bool\":{\n",
    "\t\t\t   \"should\":[\n",
    "\t\t\t\t  {\n",
    "\t\t\t\t\t \"match\":{\n",
    "\t\t\t\t\t\t\"verse_topics\":{\n",
    "\t\t\t\t\t\t   \"query\":topics,\n",
    "\t\t\t\t\t\t   \"boost\":topic_boost\n",
    "\t\t\t\t\t\t}\n",
    "\t\t\t\t\t }\n",
    "\t\t\t\t  },\n",
    "\t\t\t\t  {\n",
    "\t\t\t\t\t \"match\":{\n",
    "\t\t\t\t\t\t\"verse_entities\":{\n",
    "\t\t\t\t\t\t   \"query\":' '.join(entities),\n",
    "\t\t\t\t\t\t   \"boost\":entity_boost\n",
    "\t\t\t\t\t\t}\n",
    "\t\t\t\t\t }\n",
    "\t\t\t\t  }\n",
    "\t\t\t   ]\n",
    "\t\t\t}\n",
    "\t\t },\n",
    "\t\t \"script\":{\n",
    "\t\t\t\"source\":\"params.embedding_boost*(cosineSimilarity(params.query_vector, 'verse_vector') + 1.0) + _score\",\n",
    "\t\t\t\"params\":{\n",
    "\t\t\t   \"query_vector\":embedding,\n",
    "\t\t\t   \"embedding_boost\":embedding_boost\n",
    "\t\t\t}\n",
    "\t\t }\n",
    "\t  }\n",
    "   }\n",
    "}\n",
    "\treturn query"
   ]
  },
  {
   "cell_type": "code",
   "execution_count": 11,
   "metadata": {},
   "outputs": [
    {
     "data": {
      "text/plain": [
       "False"
      ]
     },
     "execution_count": 11,
     "metadata": {},
     "output_type": "execute_result"
    }
   ],
   "source": [
    "#running some tests here\n",
    "new_ents = search_ents.copy()\n",
    "q = form_query(search_vector,\n",
    "               search_topics,\n",
    "               new_ents)\n",
    "a = pull_relevant(es.search(index=\"production_index\", body=q, size=10)['hits']['hits'])\n",
    "\n",
    "q = form_query(search_vector,\n",
    "               search_topics,\n",
    "               new_ents,\n",
    "              embedding_boost=2)\n",
    "b = pull_relevant(es.search(index=\"production_index\", body=q, size=10)['hits']['hits'])\n",
    "b==a"
   ]
  },
  {
   "cell_type": "code",
   "execution_count": 13,
   "metadata": {
    "scrolled": true
   },
   "outputs": [
    {
     "data": {
      "text/plain": [
       "[{'score': 37.762985,\n",
       "  'parent_artist': 'MF Doom',\n",
       "  'artist': 'Danger Doom (Danger Mouse and MF Doom)',\n",
       "  'album': 'The Mouse and the Mask',\n",
       "  'song': 'Bada Bing',\n",
       "  'verse_topics': '',\n",
       "  'verse_entities': ['Villa',\n",
       "   'Apollo',\n",
       "   'Creed',\n",
       "   'Rocky',\n",
       "   'R',\n",
       "   'He',\n",
       "   '##ken',\n",
       "   'God'],\n",
       "  'verse': 'Not a lot of bling When he do the thing, bada boom, bada bing From the womb to the tomb Get that ricotta, bada bing, bada boom Doom, your reputation precedes you Wail til you crack and see what \"weed\" do, you dweeb you No pun intended, takes one to know one, will know - its unscented Yo son, demented when them sent it from the other time Before everybody and they mother rhyme What a crime - beats is the same way Make em wanna hit the streets with the heat for a lames pay Game day, flag on the play, improper helmet Drag on the suede from the gem drop of well spit He didnt listen, titty kissin the city glistened Depending on what from what position youre sittin In the pissy wind, is this thing whistlin Who let the spinnin whisperin djinn in The Villain again Without a doubt Thats his name, dont play it out Or spray it, when you say it out your mouth Then gave him a cold shoulder for a hour And told him take a gold shower, for fakin funk, soul power ... stocky, short and cocky Looked like Apollo Creed after he fought with Rocky Rhymed in a broken english slang, not cockney Thirteen, his first queen wore hot knock knees Had to tell her pops, yo stop cockblockin B Hold somethin for your daily yay habit Then go, bada-bing-bing-bing like ricochet rabbit How bout the sicko say stab it Theres liquor in the cabinet and a slicker for the crafted And Heineken, I told him much obliged friend What I gotta spend, if I only touch her thighs then ... why his eyes widened He didnt know your man had a nice surprise hidin Took pride in ridin in a sly wiseguy grin ... real recognize real On the microphone, the wheels are mechanized steel Please, at least respect your ideals How you got her walkin along the stroll in high heels He said her mamma was gettin old God bless her poor soul, now no more drama is your role Straight to the head He know a lot of haters cant wait til he dead Lead to go, like a ho, to a strange whack housewife Only thing he know will change his back do, how trife Rules is rules, dont go there Stay on sale like a old coat made of mohair Keep a snotty chicken on E, the Lone Ranger Why everybody always pickin on Danger ... and Doom, maybe its him Called up my lady, told her baby its slim Make me up a margarita I need to take a swim Tell them kids remember school - if they let em out, cool But get the hell from out the pool ('},\n",
       " {'score': 37.691814,\n",
       "  'parent_artist': 'DOOMSTARKS',\n",
       "  'artist': 'Danger Doom (Danger Mouse and MF Doom)',\n",
       "  'album': 'The Mouse and the Mask',\n",
       "  'song': 'Bada Bing',\n",
       "  'verse_topics': '',\n",
       "  'verse_entities': ['Villa',\n",
       "   'Apollo',\n",
       "   'Creed',\n",
       "   'Rocky',\n",
       "   'R',\n",
       "   'He',\n",
       "   '##ken',\n",
       "   'God'],\n",
       "  'verse': 'Not a lot of bling When he do the thing, bada boom, bada bing From the womb to the tomb Get that ricotta, bada bing, bada boom Doom, your reputation precedes you Wail til you crack and see what \"weed\" do, you dweeb you No pun intended, takes one to know one, will know - its unscented Yo son, demented when them sent it from the other time Before everybody and they mother rhyme What a crime - beats is the same way Make em wanna hit the streets with the heat for a lames pay Game day, flag on the play, improper helmet Drag on the suede from the gem drop of well spit He didnt listen, titty kissin the city glistened Depending on what from what position youre sittin In the pissy wind, is this thing whistlin Who let the spinnin whisperin djinn in The Villain again Without a doubt Thats his name, dont play it out Or spray it, when you say it out your mouth Then gave him a cold shoulder for a hour And told him take a gold shower, for fakin funk, soul power ... stocky, short and cocky Looked like Apollo Creed after he fought with Rocky Rhymed in a broken english slang, not cockney Thirteen, his first queen wore hot knock knees Had to tell her pops, yo stop cockblockin B Hold somethin for your daily yay habit Then go, bada-bing-bing-bing like ricochet rabbit How bout the sicko say stab it Theres liquor in the cabinet and a slicker for the crafted And Heineken, I told him much obliged friend What I gotta spend, if I only touch her thighs then ... why his eyes widened He didnt know your man had a nice surprise hidin Took pride in ridin in a sly wiseguy grin ... real recognize real On the microphone, the wheels are mechanized steel Please, at least respect your ideals How you got her walkin along the stroll in high heels He said her mamma was gettin old God bless her poor soul, now no more drama is your role Straight to the head He know a lot of haters cant wait til he dead Lead to go, like a ho, to a strange whack housewife Only thing he know will change his back do, how trife Rules is rules, dont go there Stay on sale like a old coat made of mohair Keep a snotty chicken on E, the Lone Ranger Why everybody always pickin on Danger ... and Doom, maybe its him Called up my lady, told her baby its slim Make me up a margarita I need to take a swim Tell them kids remember school - if they let em out, cool But get the hell from out the pool ('},\n",
       " {'score': 20.599878,\n",
       "  'parent_artist': 'Lady Sovereign',\n",
       "  'artist': 'Lady Sovereign',\n",
       "  'album': 'Public Warning',\n",
       "  'song': 'Love Me or Hate Me',\n",
       "  'verse_topics': 'im + fuck + shit + dont + like + bitch + fuckin + fucking + cause + just',\n",
       "  'verse_entities': ['S', 'O', 'English', 'He', '##ken'],\n",
       "  'verse': 'Yeah!! Its officially the biggest midget in the game I dunno... Make way for the S-O-Veeeeeeeee!  Love me or hate me, its still an obsession Love me or hate me, that is the question If you love me then - thank you If you hate me then - fuck you!  Im fat, I need a diet, no in fact Im just too light And I aint got the biggest breasteses, but I write all the best disses I got hairy armpits, but I dont walk around like this I wear a big baggy t-shirt that hides that nasty shit Ewww! Never had my nails done Bite them down until theyre numb Im the one with the non-existent bum Now I dont really give a - EWWW! Im late for my shepherds pie Like a high maintenance chick missin her diamonds Im missin my clippers lies, now bow down to your royal highness No I dont own a Corgi, had a hamster it died cause I ignored it Go on then, go on report me, Im English - try and deport me!   Im that funky little monkey with the tiniest ears I dont like drinkin fancy champy, Ill stick with Heineken beers Whoops! Might burp in ya face A little unladylike, what can I say Well oh gosh, Im not posh, may I wear odd socks I do what Im doin - YEAH! So everybodys entitled to opinions I open my mouth and shit I got millions Im the middle kid, the riddle kid Ill make you giggle til ya sick, my nose jiggles when I spit Yeah I do have some stories, and its true I want all the glory Go on then, come on support, Im English - try and deport me!   Love me or hate me, love me or hate me Love me or hate me.. ah ha ha  So I cant dance and I really cant sing, yeah I can only do one thing and thats be Lady Sovereign  - 2X  Love me or hate me, love me or hate me Love me or hate me, love me or hate me... I can only do one thing and thats be Lady Sovereign'},\n",
       " {'score': 19.549541,\n",
       "  'parent_artist': 'Busta Rhymes',\n",
       "  'artist': 'Busta Rhymes',\n",
       "  'album': 'Anarchy',\n",
       "  'song': 'Fire',\n",
       "  'verse_topics': '',\n",
       "  'verse_entities': ['Bus',\n",
       "   '##ta',\n",
       "   'R',\n",
       "   '##hy',\n",
       "   'Ai',\n",
       "   'Jack',\n",
       "   'J',\n",
       "   'English',\n",
       "   'English'],\n",
       "  'verse': 'Intro: Busta Rhymes, 2000 We got the fire now Come on! Verse 1: Hey, come on, hey Whether its from all of us You best believe Busta rhymes more flavor than all the rest From all the mess, hardcoreness from all the stress Gotsta get this flawless flow from off my chest Whose impossible folding impossible flow Aint a thing in the world that aint culpable so so I make you anticipate great Type shape real live niggas appreciate To the utmost I pack toast, keep the gat closed Run niggas to the island I pack most After the gun burst quench my blood thirst We will be leavin you much worse so one hearse Yo, now we embellish fuck the jealous And they mark on niggas now what you gon tell us Skydiver, short circuit just like a live wire And give it the niggas because we got the FIRE! Chorus: All my people in the place  Just put your hands up in the air And while we blow the spot and keep it hot You got that FIRE! Jump, shake, bounce when we come to you turn you out Its Flipmode Squad that keeps on right your rightest place We got that FIRE! Verse 2: Aiyyo Rock until Im gone Till the partys over and he start turnin the lights on Type of shit, right inside your whole crew be on Be the bullshit, so keep movin on No I aint havin it Why you grabbin it, my flow is immaculate Passionate when it comes to the fire that you have to get Then I tackle it and kill like we Jackal and Jaffolit Rob niggas and give it to the church so they can raffle it Now you can distinguish how Afro-English flowin broke in English Witness how we stay hot and how we keep us goslin Women flawsin blow the spot often you need to calculate Re-evaluate the shit off so we retaliate Marinate, when I give the hustle and carry weight And bust up niggas like you would have the Bleat Estate Its the niggas like yall I hits for only when it counts Black on the set and make motherfuckers bounce Connected the raw types of shit To make your bitch bug and make niggas pull out cake Hey I think its whack yo, I stack dough, and pack a rap show And then let all of my niggas in the back door And let the spot short circuit just like a live wire And give it the niggas because we got the FIRE! Chorus FIRE!'},\n",
       " {'score': 19.36771,\n",
       "  'parent_artist': 'Chris Webby',\n",
       "  'artist': 'Chris Webby',\n",
       "  'album': 'Wednesday (Mixtape)',\n",
       "  'song': 'Friend Like Me',\n",
       "  'verse_topics': 'like + im + got + em + cause + dont + man + just + ill + aint',\n",
       "  'verse_entities': ['Webb',\n",
       "   'La',\n",
       "   '##tarian',\n",
       "   'Milton',\n",
       "   'Kitty',\n",
       "   'Ren',\n",
       "   'St',\n",
       "   'The',\n",
       "   'Rock',\n",
       "   'Apollo',\n",
       "   'Creed',\n",
       "   'Apollo',\n",
       "   'Creed',\n",
       "   'North',\n",
       "   'Korea',\n",
       "   'Argentina',\n",
       "   'E',\n",
       "   'Apollo'],\n",
       "  'verse': 'Yeah, Webby Never had a friend like me Yeah Its that big bad wolf Bout to blow your fuckin house down With a quarter pound in my trunk on the south-bound You can smell me comin as Im whippin it around town Weed so loud that Im smokin in surround sound Had em hooked since I shook Dat Piff No one handin me the keys so I took that shit With Latarian Milton doin some hood rat shit On my hustlin flow Im a whoop that trick Got Henny in me and rollin with plenty bitties And home town pussy I call it Connetic-Kitty As animated as Ren and Stimpy, so clever and witty Youll need a certain level of intelligence to get me Gimmie gimmie, everything that you got Everything in your wallet and that ring with the watch There really aint no coming at the king for the spot Thats like stepping in the ring with The Rock It is what it is and thats how its gon be Oil in my pan burn it down low key Yall know me, I hit hard like Apollo Creed You aint never had a friend like me In it to the end like me No matter what the end might be Yall know me, I hit hard like Apollo Creed You aint never had a friend like me  Got a sworn bloodline, I was born a leader People bumping my music from here to North Korea To Argentina, fans be lining up outside my concert Like the ticket to my show whats a court subpoena Yeah I get it up on it like EMT paramedics No anesthetics, phonetic energetic with alphabetics Im spreadin the fucking vibe like a pathogen epidemic While Im sippin my unleaded and puffin the devils lettuce Im a menice in my whip indicia vapin Sippin whiskey like some sort of liquid dinner replacement Feel my inner Simba awaken The prince in the makin My ideals of vacation is to sit in my basement and write raps So Im bout to tell a night gap I run my lane take a step or five back If you forget the rest then just memorize that Cause at any second Webby might snap It is what it is and thats how its gon be Oil in my pan burn it down low key Yall know me, I hit hard like Apollo Creed You aint never had a friend like me In it to the end like me No matter what the end might be Yall know me, I hit hard like Apollo Creed You aint never had a friend like me  Its like: I was made up in a lab or something The way I hit em with these raps in the tracks you bumpin They say I sound like Im Eminems rabid cousin Whos still on drugs, fuck it Im on acid buggin Im pass n puffin the loud packed passed my limit I snap and kill it, my syllables Im mad explicit Take my enemies and kill em on a massive skillet And as for critics I covered them in gas and lit it Im back you bitches And the crown on my head stay Get on your knees, bow down to your Sensei Its like Im fuckin Christina Ricci the way I put it down on a Wednesday Yeah, Addams family shit Always on my hustle cause nobody handin me shit All Ive got is intuiting and a plan to get rich And when I do the fuckin planet will flip Yeah It is what it is and thats how its gon be Oil in my pan burn it down low key Yall know me, I hit hard like Apollo Creed You aint never had a friend like me In it to the end like me No matter what the end might be Yall know me, I hit hard like Apollo Creed You aint never had a friend like me'},\n",
       " {'score': 19.188097,\n",
       "  'parent_artist': 'House of Pain',\n",
       "  'artist': 'Everlast',\n",
       "  'album': 'Forever Everlasting',\n",
       "  'song': 'Syndication (Remix)',\n",
       "  'verse_topics': 'like + im + oh + cause + mic + dont + got + yo + beat + rock',\n",
       "  'verse_entities': ['R',\n",
       "   '##hy',\n",
       "   '##me',\n",
       "   'Syndicate',\n",
       "   'English',\n",
       "   'Ever',\n",
       "   '##last'],\n",
       "  'verse': 'Dope new styles of rhyme, not breakin science Down with the Rhyme Syndicate alliance Youre on the tip but in the crack of a whip You know the saying about ships and slips with a lip Youll be sunk while I be gettin drunk With the bottle of rose I keep in my trunk, punk Dont try to get none, know where Im comin from I dont care if you do got a gun You better step off before I go off And dont dare bug, riff or show off Cause then I break hard, you think Im a fanatic Speak my rhymes in English, not breakin no mathematics Cause thats for other people, boy, I aint got em But in almost every other rhyme I can spot em Get off it, get off the bandwagon Runnin the same old styles you keep draggin Everlast is here with rhymes ready to drop Hey yo, here I go again Im the foreman of this rap, this rhyme style construction Youre on the eve of destruction     Step forward face up, meet the grim reaper Youre aimin for the top as the ladder gets steeper To my man Divine I send this dedication To let him know that with his help I got a Syndication With the dope rhymes I write, the styles I recite Dont follow this leader, Im not your guiding light To the groove Im smooth like a hit from a buddha I might smoke an herb but I wont sniff or shoot up Not hangin with gangs or messin with thugs Not slingin no caine or dealin no drugs Cause Im straight like an arrow, the path I follow is narrow On the rise Everlast will sore like a sparrow Through the sky, so dont ask me why If youre dazed and confused you must be high So before you try and break make sure that youre sober Cause Ill snatch your crown, boy, then Ill destroy ya       To all you new jack MCs writin your rhymes in haste Get dissed, put out of business, dont it seem like a race Face death, your final breath jumpin up in my face Im a single not a pair, not a deuce Im a ace As you hear the treble clack hear my bass tone kick Take three out in a snap like a flat hat trick Everlast is educated, energized for endurance Properly protected with a 100 g insurance For my mouth Wet my whistle at a party with a Coke and a stout Take heed duck MCs cause Everlast has the clout So break north, suckers, the tops why I came Dont wanna hear beefin, cryin or complainin From you or any other party or set The pied piper of rhyme, its time to pay your debt Pay the piper, the sniper, who wanna get hyper On the microphone theres no other type of MC gettin with the E Down with Divine and DLC Def Lyric Creations on radio stations Everlast reigns supreme and Im in Syndication     Hey yo, come here, lend me your ear Everlast is the name of me and my gear So get up, get with it, come on, admit it The rhyme I just spoke, you wish you did it Like I do and you tried to But Id quit while Im ahead if I were you But Im not, Im givin all I got Get the girls on the floor, make em hot to trot For the Caucasian Sensation theres no hesitation Everlast reigns supreme and Im in Syndication'},\n",
       " {'score': 19.15257,\n",
       "  'parent_artist': 'Everlast',\n",
       "  'artist': 'Everlast',\n",
       "  'album': 'Forever Everlasting',\n",
       "  'song': 'Syndication (Remix)',\n",
       "  'verse_topics': 'like + im + oh + cause + mic + dont + got + yo + beat + rock',\n",
       "  'verse_entities': ['R',\n",
       "   '##hy',\n",
       "   '##me',\n",
       "   'Syndicate',\n",
       "   'English',\n",
       "   'Ever',\n",
       "   '##last'],\n",
       "  'verse': 'Dope new styles of rhyme, not breakin science Down with the Rhyme Syndicate alliance Youre on the tip but in the crack of a whip You know the saying about ships and slips with a lip Youll be sunk while I be gettin drunk With the bottle of rose I keep in my trunk, punk Dont try to get none, know where Im comin from I dont care if you do got a gun You better step off before I go off And dont dare bug, riff or show off Cause then I break hard, you think Im a fanatic Speak my rhymes in English, not breakin no mathematics Cause thats for other people, boy, I aint got em But in almost every other rhyme I can spot em Get off it, get off the bandwagon Runnin the same old styles you keep draggin Everlast is here with rhymes ready to drop Hey yo, here I go again Im the foreman of this rap, this rhyme style construction Youre on the eve of destruction     Step forward face up, meet the grim reaper Youre aimin for the top as the ladder gets steeper To my man Divine I send this dedication To let him know that with his help I got a Syndication With the dope rhymes I write, the styles I recite Dont follow this leader, Im not your guiding light To the groove Im smooth like a hit from a buddha I might smoke an herb but I wont sniff or shoot up Not hangin with gangs or messin with thugs Not slingin no caine or dealin no drugs Cause Im straight like an arrow, the path I follow is narrow On the rise Everlast will sore like a sparrow Through the sky, so dont ask me why If youre dazed and confused you must be high So before you try and break make sure that youre sober Cause Ill snatch your crown, boy, then Ill destroy ya       To all you new jack MCs writin your rhymes in haste Get dissed, put out of business, dont it seem like a race Face death, your final breath jumpin up in my face Im a single not a pair, not a deuce Im a ace As you hear the treble clack hear my bass tone kick Take three out in a snap like a flat hat trick Everlast is educated, energized for endurance Properly protected with a 100 g insurance For my mouth Wet my whistle at a party with a Coke and a stout Take heed duck MCs cause Everlast has the clout So break north, suckers, the tops why I came Dont wanna hear beefin, cryin or complainin From you or any other party or set The pied piper of rhyme, its time to pay your debt Pay the piper, the sniper, who wanna get hyper On the microphone theres no other type of MC gettin with the E Down with Divine and DLC Def Lyric Creations on radio stations Everlast reigns supreme and Im in Syndication     Hey yo, come here, lend me your ear Everlast is the name of me and my gear So get up, get with it, come on, admit it The rhyme I just spoke, you wish you did it Like I do and you tried to But Id quit while Im ahead if I were you But Im not, Im givin all I got Get the girls on the floor, make em hot to trot For the Caucasian Sensation theres no hesitation Everlast reigns supreme and Im in Syndication'},\n",
       " {'score': 17.346132,\n",
       "  'parent_artist': 'Swollen Members',\n",
       "  'artist': 'Swollen Members f/ DJ Babu',\n",
       "  'album': 'Bad Dreams',\n",
       "  'song': 'Ventilate',\n",
       "  'verse_topics': '',\n",
       "  'verse_entities': ['He',\n",
       "   '##ine',\n",
       "   '##ken',\n",
       "   'Hair',\n",
       "   'Club',\n",
       "   'for',\n",
       "   'Men',\n",
       "   'I',\n",
       "   'English'],\n",
       "  'verse': '\"Ventilate\" \"Swollen Members\" \"Dart-spittin\"  Man, I cant believe I have to go through all of this again I gave you your position What, I thought we were friends! I didnt ask, you offered, youre short-tempered and demanding Its my energy on stage that makes our show so outstanding Look, when we first hooked up, my first thought was youre a pansy You couldnt rap on beat, you little four-eyed geek Yeah And at the club theres a reason we dont hang out that much Youre double-fisted with two Heinekens actin like a lush Thats better than a leech, I tried to teach you to be tough I guess its hard to squeeze strength out of a cream puff Hey, let me pass you a pen So you can fill an application at the Hair Club for Men  Everything I said I meant When theres much on the line, yo, theres times you gotta vent \"Ventilate\" Were magnificient together, its a perfect combination  Man, you know how many times Ive had to swallow my pride Put my feelings aside so that we wouldnt collide I know Im hard to get along with and much harder to work for But Im breakin my back while youre hangin out at the bookstore Yeah, but when Im there Im readin Icarus, kinetics in English So when we make songs at least our music sounds distinguished Come on man, I made this happen, you dont appreciate shit Im the one who hustled, yo, you never put in one cent Youre dead-set in your ways, your stubborness What How you think we got this far, it didnt happen from luck If I had a buck for every kid I battled and slayed Id had enough to start my own record label anyway   Man, I know But once the cash comes back you can recoup your dough No, thats wack You should know better than that Well, its frustrating to me, I got a lot on my plate Well, youre the one who put it there, I thought we already ate Mininum wage Yeah, different page OK, whats the significance of the point Im tryin to make so lets drop this whole debate  Plenty  Lets just say were in our twenties  Drunk at Dennys  Step up and youll get kicked to the curb  Were both putting in work tryin to get what we deserve   \"Spit it\" \"Ventilate\" \"...em, leave em layin on their back\"\\t--&gt; Iriscience'},\n",
       " {'score': 16.864101,\n",
       "  'parent_artist': 'Busta Rhymes',\n",
       "  'artist': 'Busta Rhymes',\n",
       "  'album': 'The Coming',\n",
       "  'song': 'Woo-Hah!!  Got You All in Check',\n",
       "  'verse_topics': '',\n",
       "  'verse_entities': ['Bus',\n",
       "   'Junior',\n",
       "   'Reid',\n",
       "   'Phi',\n",
       "   'Q',\n",
       "   'Ali',\n",
       "   'Shah',\n",
       "   'Apollo',\n",
       "   'Creed',\n",
       "   'Gun',\n",
       "   'Tom',\n",
       "   'Cruise',\n",
       "   'Bus',\n",
       "   'R'],\n",
       "  'verse': 'Yah Yah Yah, Yah Yah Yah Yah Yah, Yah Yah Yah Yah Yah, Yah Yah Yah Yah Yah, Yah Yah  When I step up in the place ay yo I step correct Woo-Hah got you all in check I got that head nod shit make you break your neck Woo-Hah I got you all in check And you know we come through to wreck the disco tech Woo-Hah I got you all in check Throw your hands up in the air dont ever disrespect Woo-Hah I got you all in check  Busta Rhymez up in the place true indeed yes I catch wreck and thats word on my seed I guarantee to give you what you need One blood everybody like Junior Reid Wake up every morning yo I must up seed Nationwide darkhorse make the world stampede Yo really let me roll some weed mad charged nigga now I must proceed Yo we bout to make you set speed Peace to Baby Phife, Q-Tip, Ali Shaheed Watch me knock you out like Apollo Creed Body blow bustin your shit making you bleed Just feed off dynamic flows an take heed Need more information homeboy then just read Ay-Ya!! you can read all about the pure breed Do the bogle dance Ill do the pepperseed -Chorus- How dare you ever try to step on my suede shoes Top Gun shut down your Firm like Tom Cruise Please let me get down and blow a fuse Actin fool breakin shit down to molecules Yo let me hit you with my ill street blues Busta Rhymez always headlines the street news Woo-Hah!!! Yo baby girl dont be confused Sail my seven seas and enjoy my boat cruise I know you really want to know whos comin through leaving bloodstains and residues Sorry homeboy but your flow sounds used Gotta pay your dues baby you know the rules Whenever I travel the world I landcruise If you choose to fuck around you get bruised Now I got you gassed on super unleaded fuels Get me through give me some space you excuse -Chorus-  You now rockin wit the best the boy scout is who I be..... ...Flip Mode is the sqiddaud Hah Yah Yah Yah Yah Yah  Verse Yo which muthaphucka stole my flow eenie....meenie miney mo Throw that type of nigga right out my window Blast your ass hit you with my direct blow Bo!! Coming through like G.I. Joe Star Wars movie deal like Han Solo Make you bounce around like this was calypso Always shine cause I got the high pro glow You think that you can hide you think you can lay low Roll up on your ass like Hawaii 5-0 Mad out with my dreads in my kango forget the Moet nigga just pass the Cisco Yo!! Take a trip down to Mexico Come back with that shit that might make you psycho Maximum frequencies through your stereo Sorry this is it but homeboy I got to go -Chorus- Hah Yo Yo Yay Yo Yay Yo Yo Yay . .. Yay Yo Yay . .. Yay'},\n",
       " {'score': 15.387741,\n",
       "  'parent_artist': '*** RAP COMPILATIONS ***',\n",
       "  'artist': '(Mad) Skillz',\n",
       "  'album': 'Eastern Conference All Stars II',\n",
       "  'song': 'Pressure Time',\n",
       "  'verse_topics': '',\n",
       "  'verse_entities': ['Congregation',\n",
       "   'Source',\n",
       "   'Apollo',\n",
       "   'Rocky',\n",
       "   'D',\n",
       "   'I',\n",
       "   'C'],\n",
       "  'verse': 'Ohh! Uh-uh, yeah Pressure, pressure time Can I get the Congregation to put ya hands together Uh.. uh-huh, uh.. uh-huh Skillz Uh-huh, yeah, uh Yo yo yo If you was blind to the fact, then soon youll see Half of these rappers couldnt run through me Im from a place where outta state niggaz hide they rough You believe in spirits, Ill put you inside yaself Ya hatin, Im changin up the course again Now ya like, \"Damn, how he get up in The Source again\" Man these so-called rappers is gettin real sloppy Labels callin me, just wishin they could stop me Meanwhile Im spittin at a chick in the lobby Two-tone Timbs, lookin like chicken and broccoli Rap cats dont got what they need to stop me Kick yo ass and then we cool like Apollo and Rocky My vacancy figures, hold my ground Whole state-a niggaz, love the way I hold em down Over your track, Ill floor ya Have ya producer callin you like, \"I got another one for ya\"  - 2X So whats this - The reason you aint seein me Now who are you - Come on now, ya favorite emcee Relax yaself and let ya conscious be free, and get down to the sounds of the D.I.C.  Yo my name, a name all crewsll know Everytime I spit, your label lose some dough So if yall move three, we movin fo Fuck rap, I bruise mics and thats right from the do See its like, Im bout these hits strictly These haters out here dont hit me, they gon get wit me You dont know a nigga breathin thats gonna out spit me I got news for these lil crews out to get me Im like easy pass before I drop I might slow down, but I dont have to stop You wanna see somethin hot, well pass the rock You dont have to be turbo for yo ass to get popped Keep the stash in the spot while you hittin the leaf Fuck makin it hot, I make it like fish grease Timbs slick with the crease, get around that And once I bounce on the beat, it aint bouncin back  - 2X  Aiyyo Im Skillz dawg, the steel I be breakin I dont give a fuck about the shit yall makin My crew spit nice and still get mean Pop the clip out the mic and spit sixteen Cats talk their head off for like an hour and shit Niggaz be ridin ya sack and wanna borrow ya dick Whoever yall think nice, I heard of em all Name ya top three rappers, Ill murder em all Probably caught me at a light sittin low to the ground Told ya girl, \"Aww he act like he dont know me now\" Any city you can visit, I tore that down Way above yours, thats where my flow at now If I ever need loot, I long for figures Im in the parkin booth, ghostwritin songs for niggaz Chicks call me a pigeon, but they aint wrong Cuz at any given time, they could get shitted on Beats get spitted on, courtesy of Shaquan Ima keep talkin shit till yall prove me wrong Oh you still doin songs Its all for nothin All you gon ever get from me is the fast-forward button  - 2X  \"Heres what it is..\" \"..Iz is the real\" \"Heres what it is..\" \"..Iz is the real\"'}]"
      ]
     },
     "execution_count": 13,
     "metadata": {},
     "output_type": "execute_result"
    }
   ],
   "source": [
    "b"
   ]
  },
  {
   "cell_type": "code",
   "execution_count": null,
   "metadata": {},
   "outputs": [],
   "source": []
  }
 ],
 "metadata": {
  "kernelspec": {
   "display_name": "Python 3",
   "language": "python",
   "name": "python3"
  },
  "language_info": {
   "codemirror_mode": {
    "name": "ipython",
    "version": 3
   },
   "file_extension": ".py",
   "mimetype": "text/x-python",
   "name": "python",
   "nbconvert_exporter": "python",
   "pygments_lexer": "ipython3",
   "version": "3.7.9"
  }
 },
 "nbformat": 4,
 "nbformat_minor": 4
}
